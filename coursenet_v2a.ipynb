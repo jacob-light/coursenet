{
 "cells": [
  {
   "cell_type": "code",
   "execution_count": null,
   "metadata": {},
   "outputs": [],
   "source": [
    "import pandas as pd\n",
    "import numpy as np\n",
    "import matplotlib.pyplot as plt\n",
    "import tensorflow as tf\n",
    "import os, sklearn, keras, gensim, multiprocessing\n",
    "\n",
    "from pandas import read_csv\n",
    "from keras.models import Sequential, Model\n",
    "from keras import layers\n",
    "from keras.layers import Dense, Conv1D, MaxPooling1D, Flatten, Dropout, Input, Embedding, BatchNormalization\n",
    "from sklearn.preprocessing import OneHotEncoder, LabelEncoder\n",
    "from sklearn.compose import ColumnTransformer \n",
    "from sklearn.model_selection import train_test_split\n",
    "from gensim.models import Word2Vec\n",
    "from gensim.models.phrases import Phrases, Phraser\n",
    "from nltk.tokenize import RegexpTokenizer"
   ]
  },
  {
   "cell_type": "code",
   "execution_count": null,
   "metadata": {},
   "outputs": [],
   "source": [
    "# Read course description data\n",
    "X = read_csv('input/courses_nested.csv')\n",
    "\n",
    "# DEFINE CONSTANTS\n",
    "TEST_SIZE = 0.05   # Define split size for test, training data (% of all records)\n",
    "LAM = 0.01        # Regularization parameter\n",
    "EPOCHS = 40        # Number of epochs\n",
    "BATCH_SIZE = 64    # Batch size"
   ]
  },
  {
   "cell_type": "code",
   "execution_count": null,
   "metadata": {},
   "outputs": [],
   "source": [
    "# Convert softmax predictions to labels \n",
    "def undo_onehot (df, df_prime):\n",
    "    # Use model to predict output\n",
    "    out = np.argmax(df_prime, axis = 1)\n",
    "    df = np.argmax(df, axis = 1)\n",
    "\n",
    "    # Inverse transform using the encoder defined above\n",
    "    out = le.inverse_transform(out)\n",
    "    df = le.inverse_transform(df)\n",
    "\n",
    "    # Return as data frame\n",
    "    out = {'y': df,\n",
    "          'y_prime': out,\n",
    "          'match': (df == out) + 0}\n",
    "    return pd.DataFrame(out)"
   ]
  },
  {
   "cell_type": "code",
   "execution_count": null,
   "metadata": {},
   "outputs": [],
   "source": [
    "def model_implement(model_in, N_words, description):\n",
    "    # Set seed to ensure that train, test, dev observations are identical across \n",
    "    # model runs\n",
    "    np.random.seed(989)\n",
    "    \n",
    "    # Tokenize features - select N_words using a tf-idf algorithm\n",
    "    vectorizer = sklearn.feature_extraction.text.TfidfVectorizer(max_features = N_words, ngram_range = (1,2))\n",
    "    x = vectorizer.fit_transform(X['desc'])\n",
    "    x_dense = x.toarray()\n",
    "\n",
    "    # Split into test, training datasets. Train and dev datasets contain identical number\n",
    "    # of observations\n",
    "    train_X, test_X, train_Y, test_Y = train_test_split(x_dense, y_onehot, test_size = TEST_SIZE,\n",
    "                                                        shuffle = True, stratify = y_onehot)\n",
    "    train_X, dev_X, train_Y, dev_Y = train_test_split(train_X, train_Y, test_size = TEST_SIZE / (1 - TEST_SIZE),\n",
    "                                                      shuffle = True, stratify = train_Y)\n",
    "\n",
    "    # Compile model defined and entered as function argument, use ADAM optimizer.\n",
    "    # Output is categorical, use categorical cross-entropy loss function\n",
    "    model_in.compile(optimizer = 'adam', loss = 'categorical_crossentropy', metrics = ['accuracy'])\n",
    "\n",
    "    # Test model fit using mini-batch gradient descent\n",
    "    test_fit = model_in.fit(x = train_X, y = train_Y, validation_data = (dev_X, dev_Y),\n",
    "                            epochs = EPOCHS, batch_size = BATCH_SIZE)\n",
    "\n",
    "    # Calculate prediction accuracy in train, dev, test sets\n",
    "    train_accuracy = model_in.evaluate(train_X, train_Y)[1]\n",
    "    dev_accuracy = model_in.evaluate(dev_X, dev_Y)[1]\n",
    "    test_accuracy = model_in.evaluate(test_X, test_Y)[1]\n",
    "    out = {'data': ['train', 'dev', 'test'],\n",
    "           'accuracy': [train_accuracy, dev_accuracy, test_accuracy],\n",
    "           'desc': description}\n",
    "    out = pd.DataFrame.from_dict(out)\n",
    "\n",
    "    return x_dense, test_fit, model_in, out"
   ]
  },
  {
   "cell_type": "code",
   "execution_count": null,
   "metadata": {},
   "outputs": [],
   "source": [
    "# Create one-hot vector encoding for classification vector y\n",
    "le = LabelEncoder() \n",
    "onehot_encoder = OneHotEncoder(sparse = False)\n",
    "y_v2 = le.fit_transform(np.array(X['blom_group']))\n",
    "y_v2 = y_v2.reshape(len(y_v2), 1)\n",
    "y_onehot = onehot_encoder.fit_transform(y_v2)"
   ]
  },
  {
   "cell_type": "code",
   "execution_count": null,
   "metadata": {},
   "outputs": [],
   "source": [
    "##########################################\n",
    "# DEFINE MODEL - multilayer sequential model with\n",
    "# regularization to avoid overfitting on individual words,\n",
    "# final activation function should be a softmax activation\n",
    "# where the number of nodes corresponds to the number of \n",
    "# distinct major categories\n",
    "##########################################\n",
    "\n",
    "N = 2500\n",
    "\n",
    "model = Sequential()\n",
    "model.add(Dense(1152, input_dim = N, activation = 'relu', kernel_regularizer = tf.keras.regularizers.l1(LAM)))\n",
    "model.add(BatchNormalization())\n",
    "model.add(Dense(576, activation = 'relu', kernel_regularizer = tf.keras.regularizers.l1(LAM)))\n",
    "model.add(BatchNormalization())\n",
    "model.add(Dense(288, activation = 'relu', kernel_regularizer = tf.keras.regularizers.l1(LAM)))\n",
    "model.add(BatchNormalization())\n",
    "model.add(Dense(144, activation = 'relu', kernel_regularizer = tf.keras.regularizers.l1(LAM)))\n",
    "model.add(BatchNormalization())\n",
    "model.add(Dense(72, activation = 'relu', kernel_regularizer = tf.keras.regularizers.l1(LAM)))\n",
    "model.add(BatchNormalization())\n",
    "model.add(Dense(72, activation = 'relu', kernel_regularizer = tf.keras.regularizers.l1(LAM)))\n",
    "model.add(BatchNormalization())\n",
    "model.add(Dense(36, activation = 'softmax'))\n",
    "\n",
    "# Run model\n",
    "X1, test_fit1, model1, out1 = model_implement(model, N, 'Base Model')"
   ]
  },
  {
   "cell_type": "code",
   "execution_count": null,
   "metadata": {},
   "outputs": [],
   "source": [
    "##########################################\n",
    "# MODEL 2 - Add additional layers\n",
    "##########################################\n",
    "\n",
    "N = 2500\n",
    "\n",
    "model2 = Sequential()\n",
    "model2.add(Dense(1152, input_dim = N, activation = 'relu', kernel_regularizer = tf.keras.regularizers.l1(LAM)))\n",
    "model2.add(BatchNormalization())\n",
    "model2.add(Dense(576, activation = 'relu', kernel_regularizer = tf.keras.regularizers.l1(LAM)))\n",
    "model2.add(BatchNormalization())\n",
    "model2.add(Dense(576, activation = 'relu', kernel_regularizer = tf.keras.regularizers.l1(LAM)))\n",
    "model2.add(BatchNormalization())\n",
    "model2.add(Dense(288, activation = 'relu', kernel_regularizer = tf.keras.regularizers.l1(LAM)))\n",
    "model2.add(BatchNormalization())\n",
    "model2.add(Dense(288, activation = 'relu', kernel_regularizer = tf.keras.regularizers.l1(LAM)))\n",
    "model2.add(BatchNormalization())\n",
    "model2.add(Dense(144, activation = 'relu', kernel_regularizer = tf.keras.regularizers.l1(LAM)))\n",
    "model2.add(BatchNormalization())\n",
    "model2.add(Dense(72, activation = 'relu', kernel_regularizer = tf.keras.regularizers.l1(LAM)))\n",
    "model2.add(BatchNormalization())\n",
    "model2.add(Dense(72, activation = 'relu', kernel_regularizer = tf.keras.regularizers.l1(LAM)))\n",
    "model2.add(BatchNormalization())\n",
    "model2.add(Dense(36, activation = 'softmax'))\n",
    "\n",
    "# Run model\n",
    "X2, test_fit2, model2, out2 = model_implement(model2, N, 'Additional Layers')\n"
   ]
  },
  {
   "cell_type": "code",
   "execution_count": null,
   "metadata": {},
   "outputs": [],
   "source": [
    "##########################################\n",
    "# MODEL 3 - Larger feature space\n",
    "##########################################\n",
    "\n",
    "N = 5000\n",
    "\n",
    "model3 = Sequential()\n",
    "model3.add(Dense(1152, input_dim = N, activation = 'relu', kernel_regularizer = tf.keras.regularizers.l1(LAM)))\n",
    "model3.add(BatchNormalization())\n",
    "model3.add(Dense(576, activation = 'relu', kernel_regularizer = tf.keras.regularizers.l1(LAM)))\n",
    "model3.add(BatchNormalization())\n",
    "model3.add(Dense(288, activation = 'relu', kernel_regularizer = tf.keras.regularizers.l1(LAM)))\n",
    "model3.add(BatchNormalization())\n",
    "model3.add(Dense(144, activation = 'relu', kernel_regularizer = tf.keras.regularizers.l1(LAM)))\n",
    "model3.add(BatchNormalization())\n",
    "model3.add(Dense(72, activation = 'relu', kernel_regularizer = tf.keras.regularizers.l1(LAM)))\n",
    "model3.add(BatchNormalization())\n",
    "model3.add(Dense(72, activation = 'relu', kernel_regularizer = tf.keras.regularizers.l1(LAM)))\n",
    "model3.add(BatchNormalization())\n",
    "model3.add(Dense(36, activation = 'softmax'))\n",
    "\n",
    "# Run model\n",
    "X3, test_fit3, model3, out3 = model_implement(model3, N, 'Expand features space')"
   ]
  },
  {
   "cell_type": "code",
   "execution_count": null,
   "metadata": {},
   "outputs": [],
   "source": [
    "########################\n",
    "# DIAGNOSTICS\n",
    "########################\n",
    "# Compile performance compare data frame\n",
    "out_append = out1.append(out2)\n",
    "out_append = out_append.append(out3).reindex(columns = ['data', 'desc', 'accuracy'])\n",
    "print(pd.DataFrame.to_latex(out_append))"
   ]
  },
  {
   "cell_type": "code",
   "execution_count": null,
   "metadata": {},
   "outputs": [],
   "source": [
    "# Choose top-performing model\n",
    "best_fit = test_fit1\n",
    "best_model = model1\n",
    "best_X = X1"
   ]
  },
  {
   "cell_type": "code",
   "execution_count": 89,
   "metadata": {},
   "outputs": [
    {
     "data": {
      "image/png": "[encoded data removed]",
      "text/plain": [
       "<Figure size 432x288 with 1 Axes>"
      ]
     },
     "metadata": {
      "needs_background": "light"
     },
     "output_type": "display_data"
    }
   ],
   "source": [
    "# Plot performance of top-performing model\n",
    "plt.plot(best_fit.history['loss'])\n",
    "plt.plot(best_fit.history['val_loss'])\n",
    "# plt.title('model loss')\n",
    "plt.ylabel('loss')\n",
    "plt.xlabel('epoch')\n",
    "plt.legend(['train', 'dev'], loc='upper right')\n",
    "plt.ylim((0, 15))\n",
    "# plt.show()\n",
    "\n",
    "# Save output\n",
    "# fig = plt.figure()\n",
    "plt.savefig('intermediate/loss_function.png', bbox_inches='tight', dpi=150)"
   ]
  },
  {
   "cell_type": "code",
   "execution_count": null,
   "metadata": {},
   "outputs": [],
   "source": [
    "# Evaluate performance of the model by department category\n",
    "# test_out = undo_onehot(df = y_onehot, df_prime = model.predict(best_X))\n",
    "test_out2 = test_out.groupby('y').mean()\n",
    "test_out2['match'] = np.round(test_out2['match'], 2)\n",
    "\n",
    "# Count observations by department\n",
    "test_out2['count'] = test_out.groupby('y').count()['match']\n",
    "test_out2 = test_out2.rename(columns = {'match':'accuracy'}).reindex(columns = ['count', 'accuracy'])\n",
    "print(pd.DataFrame.to_latex(test_out2))"
   ]
  },
  {
   "cell_type": "code",
   "execution_count": null,
   "metadata": {},
   "outputs": [],
   "source": [
    "# Evaluate performance by department, type of school\n",
    "test_out_4year = undo_onehot(df = y_onehot[X['type'] != 'Public, 2-year'], \n",
    "                             df_prime = model.predict(best_X[X['type'] != 'Public, 2-year']))\n",
    "test_out_4year = test_out_4year.groupby('y').mean()\n",
    "test_out_4year['match'] = np.round(test_out_4year['match'], 2)\n",
    "test_out_4year = test_out_4year.rename(columns = {'match':'4-year Accuracy'})\n",
    "\n",
    "test_out_2year = undo_onehot(df = y_onehot[X['type'] == 'Public, 2-year'], \n",
    "                             df_prime = model.predict(best_X[X['type'] == 'Public, 2-year']))\n",
    "test_out_2year = test_out_2year.groupby('y').mean()\n",
    "test_out_2year['match'] = np.round(test_out_2year['match'], 2)\n",
    "test_out_2year = test_out_2year.rename(columns = {'match':'2-year Accuracy'})"
   ]
  },
  {
   "cell_type": "code",
   "execution_count": null,
   "metadata": {},
   "outputs": [],
   "source": [
    "test_out_compare = pd.merge(test_out_4year, test_out_2year, on = 'y', how = 'left')\n",
    "print(pd.DataFrame.to_latex(test_out_compare))"
   ]
  },
  {
   "cell_type": "code",
   "execution_count": null,
   "metadata": {},
   "outputs": [],
   "source": []
  }
 ],
 "metadata": {
  "kernelspec": {
   "display_name": "Python 3",
   "language": "python",
   "name": "python3"
  },
  "language_info": {
   "codemirror_mode": {
    "name": "ipython",
    "version": 3
   },
   "file_extension": ".py",
   "mimetype": "text/x-python",
   "name": "python",
   "nbconvert_exporter": "python",
   "pygments_lexer": "ipython3",
   "version": "3.8.3"
  }
 },
 "nbformat": 4,
 "nbformat_minor": 4
}
